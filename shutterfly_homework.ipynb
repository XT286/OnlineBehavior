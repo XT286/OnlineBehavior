{
 "cells": [
  {
   "cell_type": "markdown",
   "metadata": {},
   "source": [
    "# Shutterfly Homework\n",
    "\n",
    "This notebook is part of the interview process of Data Scientist position in Shutterfly. \n",
    "\n",
    "The data and description of the problem are from the GitHub page: https://github.com/sflydatascience/homework1.\n",
    "\n",
    "My goal in this project is to predict the <b>revenue ranges</b> based on <b>customer's online behavior</b>. A more detailed description of the project is given in the beginning of Section 2."
   ]
  },
  {
   "cell_type": "markdown",
   "metadata": {},
   "source": [
    "## 1. Exploration of the Dataset\n",
    "\n",
    "### 1.1 Initial Intepretation of the Datasets\n",
    "Two data sets ('online.csv', 'order.csv') were given. \n",
    "\n",
    "My interpretion on these two datasets are as follows:\n",
    "1. 'online.csv' is a dataset that records online activities of the users. Each entry (one row) is a visit from a certain customer ('custno') at a certain time ('dt'). We also have the online event ('event1', 'event2'), e.g. Sales, Discounts (I presume), that this visit involves, as well as the online browsing category ('category').\n",
    "2. 'order.csv' is a dataset that records the orders from the users. Each entry (one row) is an order of a certain item ('prodcat1', 'prodcat2') from a certain customer ('custno'). We also have the order date ('orderdate'), order number ('ordno') and revenue of the purchase ('revenue').\n",
    "\n",
    "We now dive a bit deeper into the structure of the datasets."
   ]
  },
  {
   "cell_type": "code",
   "execution_count": 1,
   "metadata": {},
   "outputs": [],
   "source": [
    "import pandas as pd\n",
    "import numpy as np\n",
    "import matplotlib.pyplot as plt\n",
    "import seaborn as sns\n",
    "import datetime\n",
    "from tqdm import tqdm\n",
    "\n",
    "tqdm.pandas()"
   ]
  },
  {
   "cell_type": "code",
   "execution_count": 2,
   "metadata": {},
   "outputs": [],
   "source": [
    "# Read in the datasets\n",
    "online = pd.read_csv('data/online.csv')\n",
    "order = pd.read_csv('data/order.csv')"
   ]
  },
  {
   "cell_type": "code",
   "execution_count": 3,
   "metadata": {},
   "outputs": [
    {
     "name": "stdout",
     "output_type": "stream",
     "text": [
      "(954774, 7)\n"
     ]
    },
    {
     "data": {
      "text/html": [
       "<div>\n",
       "<style scoped>\n",
       "    .dataframe tbody tr th:only-of-type {\n",
       "        vertical-align: middle;\n",
       "    }\n",
       "\n",
       "    .dataframe tbody tr th {\n",
       "        vertical-align: top;\n",
       "    }\n",
       "\n",
       "    .dataframe thead th {\n",
       "        text-align: right;\n",
       "    }\n",
       "</style>\n",
       "<table border=\"1\" class=\"dataframe\">\n",
       "  <thead>\n",
       "    <tr style=\"text-align: right;\">\n",
       "      <th></th>\n",
       "      <th>session</th>\n",
       "      <th>visitor</th>\n",
       "      <th>dt</th>\n",
       "      <th>custno</th>\n",
       "      <th>category</th>\n",
       "      <th>event1</th>\n",
       "      <th>event2</th>\n",
       "    </tr>\n",
       "  </thead>\n",
       "  <tbody>\n",
       "    <tr>\n",
       "      <th>0</th>\n",
       "      <td>419542</td>\n",
       "      <td>140970</td>\n",
       "      <td>2016-09-16 05:03:23</td>\n",
       "      <td>3840</td>\n",
       "      <td>1</td>\n",
       "      <td>NaN</td>\n",
       "      <td>1</td>\n",
       "    </tr>\n",
       "    <tr>\n",
       "      <th>1</th>\n",
       "      <td>3030130</td>\n",
       "      <td>14501</td>\n",
       "      <td>2017-11-13 04:58:12</td>\n",
       "      <td>70400</td>\n",
       "      <td>1</td>\n",
       "      <td>NaN</td>\n",
       "      <td>1</td>\n",
       "    </tr>\n",
       "    <tr>\n",
       "      <th>2</th>\n",
       "      <td>2638740</td>\n",
       "      <td>419353</td>\n",
       "      <td>2017-05-24 16:10:38</td>\n",
       "      <td>21248</td>\n",
       "      <td>1</td>\n",
       "      <td>NaN</td>\n",
       "      <td>1</td>\n",
       "    </tr>\n",
       "    <tr>\n",
       "      <th>3</th>\n",
       "      <td>880408</td>\n",
       "      <td>90673</td>\n",
       "      <td>2017-10-28 13:42:38</td>\n",
       "      <td>39168</td>\n",
       "      <td>1</td>\n",
       "      <td>NaN</td>\n",
       "      <td>1</td>\n",
       "    </tr>\n",
       "    <tr>\n",
       "      <th>4</th>\n",
       "      <td>2612179</td>\n",
       "      <td>191542</td>\n",
       "      <td>2016-05-17 06:30:32</td>\n",
       "      <td>47616</td>\n",
       "      <td>1</td>\n",
       "      <td>NaN</td>\n",
       "      <td>1</td>\n",
       "    </tr>\n",
       "  </tbody>\n",
       "</table>\n",
       "</div>"
      ],
      "text/plain": [
       "   session  visitor                   dt  custno  category  event1  event2\n",
       "0   419542   140970  2016-09-16 05:03:23    3840         1     NaN       1\n",
       "1  3030130    14501  2017-11-13 04:58:12   70400         1     NaN       1\n",
       "2  2638740   419353  2017-05-24 16:10:38   21248         1     NaN       1\n",
       "3   880408    90673  2017-10-28 13:42:38   39168         1     NaN       1\n",
       "4  2612179   191542  2016-05-17 06:30:32   47616         1     NaN       1"
      ]
     },
     "execution_count": 3,
     "metadata": {},
     "output_type": "execute_result"
    }
   ],
   "source": [
    "# Look at the data sets Briefly\n",
    "print(online.shape)\n",
    "online.head()"
   ]
  },
  {
   "cell_type": "code",
   "execution_count": 4,
   "metadata": {},
   "outputs": [
    {
     "name": "stdout",
     "output_type": "stream",
     "text": [
      "(263278, 6)\n"
     ]
    },
    {
     "data": {
      "text/html": [
       "<div>\n",
       "<style scoped>\n",
       "    .dataframe tbody tr th:only-of-type {\n",
       "        vertical-align: middle;\n",
       "    }\n",
       "\n",
       "    .dataframe tbody tr th {\n",
       "        vertical-align: top;\n",
       "    }\n",
       "\n",
       "    .dataframe thead th {\n",
       "        text-align: right;\n",
       "    }\n",
       "</style>\n",
       "<table border=\"1\" class=\"dataframe\">\n",
       "  <thead>\n",
       "    <tr style=\"text-align: right;\">\n",
       "      <th></th>\n",
       "      <th>custno</th>\n",
       "      <th>ordno</th>\n",
       "      <th>orderdate</th>\n",
       "      <th>prodcat2</th>\n",
       "      <th>prodcat1</th>\n",
       "      <th>revenue</th>\n",
       "    </tr>\n",
       "  </thead>\n",
       "  <tbody>\n",
       "    <tr>\n",
       "      <th>0</th>\n",
       "      <td>18944</td>\n",
       "      <td>64694</td>\n",
       "      <td>2016-11-27 20:57:20</td>\n",
       "      <td>NaN</td>\n",
       "      <td>1</td>\n",
       "      <td>53.30</td>\n",
       "    </tr>\n",
       "    <tr>\n",
       "      <th>1</th>\n",
       "      <td>18944</td>\n",
       "      <td>114405</td>\n",
       "      <td>2017-04-29 20:18:04</td>\n",
       "      <td>NaN</td>\n",
       "      <td>1</td>\n",
       "      <td>0.10</td>\n",
       "    </tr>\n",
       "    <tr>\n",
       "      <th>2</th>\n",
       "      <td>18944</td>\n",
       "      <td>28906</td>\n",
       "      <td>2017-04-23 21:31:03</td>\n",
       "      <td>NaN</td>\n",
       "      <td>1</td>\n",
       "      <td>141.66</td>\n",
       "    </tr>\n",
       "    <tr>\n",
       "      <th>3</th>\n",
       "      <td>36096</td>\n",
       "      <td>62681</td>\n",
       "      <td>2016-02-25 07:16:33</td>\n",
       "      <td>NaN</td>\n",
       "      <td>1</td>\n",
       "      <td>36.82</td>\n",
       "    </tr>\n",
       "    <tr>\n",
       "      <th>4</th>\n",
       "      <td>1</td>\n",
       "      <td>1</td>\n",
       "      <td>2017-06-12 08:27:59</td>\n",
       "      <td>NaN</td>\n",
       "      <td>1</td>\n",
       "      <td>8.35</td>\n",
       "    </tr>\n",
       "  </tbody>\n",
       "</table>\n",
       "</div>"
      ],
      "text/plain": [
       "   custno   ordno            orderdate  prodcat2  prodcat1  revenue\n",
       "0   18944   64694  2016-11-27 20:57:20       NaN         1    53.30\n",
       "1   18944  114405  2017-04-29 20:18:04       NaN         1     0.10\n",
       "2   18944   28906  2017-04-23 21:31:03       NaN         1   141.66\n",
       "3   36096   62681  2016-02-25 07:16:33       NaN         1    36.82\n",
       "4       1       1  2017-06-12 08:27:59       NaN         1     8.35"
      ]
     },
     "execution_count": 4,
     "metadata": {},
     "output_type": "execute_result"
    }
   ],
   "source": [
    "print(order.shape)\n",
    "order.head()"
   ]
  },
  {
   "cell_type": "markdown",
   "metadata": {},
   "source": [
    "There are many null values on 'event1' and 'procat2'. I think for 'event1', a null value may mean that there is no event going on. For 'prodcat2' it may mean that the product has not been categorized. For both cases it is safe to impute the nulls with some value distinct from all existing values in that column.\n",
    "\n",
    "Before that, we first look at the number of unique values in each column."
   ]
  },
  {
   "cell_type": "code",
   "execution_count": 5,
   "metadata": {},
   "outputs": [
    {
     "data": {
      "text/plain": [
       "session     850235\n",
       "visitor     259950\n",
       "dt          942579\n",
       "custno       57584\n",
       "category         3\n",
       "event1          10\n",
       "event2          10\n",
       "dtype: int64"
      ]
     },
     "execution_count": 5,
     "metadata": {},
     "output_type": "execute_result"
    }
   ],
   "source": [
    "online.nunique()"
   ]
  },
  {
   "cell_type": "code",
   "execution_count": 6,
   "metadata": {},
   "outputs": [
    {
     "data": {
      "text/plain": [
       "custno        70264\n",
       "ordno        149717\n",
       "orderdate    149482\n",
       "prodcat2        251\n",
       "prodcat1          6\n",
       "revenue       15001\n",
       "dtype: int64"
      ]
     },
     "execution_count": 6,
     "metadata": {},
     "output_type": "execute_result"
    }
   ],
   "source": [
    "order.nunique()"
   ]
  },
  {
   "cell_type": "markdown",
   "metadata": {},
   "source": [
    "We see that there are multiple items sharing a same order number, and there are multiple order numbers coming from a same customer. We also sees that 'prodcat2' should be more detailed categories than 'prodcat1'.\n",
    "\n",
    "It should be clear that each order number corresponds to only one customer and only one order date. But I hope to verify that."
   ]
  },
  {
   "cell_type": "code",
   "execution_count": 7,
   "metadata": {},
   "outputs": [
    {
     "name": "stdout",
     "output_type": "stream",
     "text": [
      "0\n",
      "0\n"
     ]
    }
   ],
   "source": [
    "uniqueness = order.groupby('ordno')['custno','orderdate'].nunique().reset_index()\n",
    "print(len(uniqueness[uniqueness['custno']!=1]))\n",
    "print(len(uniqueness[uniqueness['orderdate']!=1]))"
   ]
  },
  {
   "cell_type": "markdown",
   "metadata": {},
   "source": [
    "### 1.2 Imputing the Null values\n",
    "We now investigate the null values from 'event1' and 'prodcat2'."
   ]
  },
  {
   "cell_type": "code",
   "execution_count": 8,
   "metadata": {},
   "outputs": [
    {
     "data": {
      "text/plain": [
       "array([nan,  1.,  2.,  4.,  5.,  6.,  7.,  8.,  9., 10., 11.])"
      ]
     },
     "execution_count": 8,
     "metadata": {},
     "output_type": "execute_result"
    }
   ],
   "source": [
    "online['event1'].unique()"
   ]
  },
  {
   "cell_type": "markdown",
   "metadata": {},
   "source": [
    "From 'event1', value '3' is missing. We will impute them with '3'."
   ]
  },
  {
   "cell_type": "code",
   "execution_count": 9,
   "metadata": {},
   "outputs": [],
   "source": [
    "online['event1'].fillna(value = 3, inplace = True)"
   ]
  },
  {
   "cell_type": "code",
   "execution_count": 10,
   "metadata": {},
   "outputs": [
    {
     "data": {
      "text/plain": [
       "array([ nan, 256., 257.,   2., 258.,   3., 259.,   4., 260.,   5., 261.,\n",
       "         6., 262.,   7., 263.,   8.,   9.,  10.,  11.,  12.,  13.,  14.,\n",
       "        15.,  16.,  17.,  18.,  19.,  20.,  21.,  23.,  24.,  25.,  26.,\n",
       "        27.,  28.,  30.,  32.,  33.,  34.,  35.,  38.,  39.,  40.,  41.,\n",
       "        42.,  43.,  44.,  45.,  46.,  47.,  48.,  49.,  50.,  51.,  52.,\n",
       "        53.,  54.,  55.,  56.,  57.,  58.,  59.,  60.,  61.,  62.,  63.,\n",
       "        64.,  65.,  66.,  67.,  69.,  70.,  71.,  72.,  73.,  74.,  75.,\n",
       "        76.,  77.,  78.,  79.,  80.,  81.,  82.,  83.,  85.,  86.,  88.,\n",
       "        89.,  90.,  91.,  92.,  93.,  94.,  95.,  96.,  97.,  98.,  99.,\n",
       "       100., 101., 102., 103., 104., 105., 106., 107., 108., 109., 110.,\n",
       "       111., 112., 113., 114., 115., 116., 117., 118., 119., 120., 121.,\n",
       "       122., 123., 124., 125., 126., 127., 128., 129., 130., 131., 132.,\n",
       "       133., 134., 135., 136., 137., 138., 139., 140., 141., 142., 143.,\n",
       "       144., 145., 146., 147., 148., 149., 150., 151., 152., 153., 154.,\n",
       "       155., 156., 157., 158., 159., 160., 161., 162., 164., 165., 166.,\n",
       "       167., 168., 169., 170., 171., 172., 173., 174., 175., 176., 177.,\n",
       "       178., 179., 180., 181., 182., 183., 184., 185., 186., 187., 188.,\n",
       "       189., 190., 191., 192., 193., 194., 195., 196., 197., 198., 199.,\n",
       "       200., 201., 202., 203., 204., 205., 206., 207., 208., 209., 210.,\n",
       "       211., 212., 213., 214., 215., 216., 217., 218., 219., 220., 221.,\n",
       "       222., 223., 224., 225., 226., 227., 228., 229., 230., 231., 232.,\n",
       "       233., 234., 235., 236., 237., 238., 239., 240., 241., 243., 244.,\n",
       "       245., 246., 247., 248., 249., 250., 251., 252., 253., 255.])"
      ]
     },
     "execution_count": 10,
     "metadata": {},
     "output_type": "execute_result"
    }
   ],
   "source": [
    "order['prodcat2'].unique()"
   ]
  },
  {
   "cell_type": "markdown",
   "metadata": {},
   "source": [
    "We will be more careful for 'prodcat2', since it should be the subcategory of 'prodcat1'. We will first see how many values of 'prodcat1' has when 'prodcat2' is null."
   ]
  },
  {
   "cell_type": "code",
   "execution_count": 11,
   "metadata": {},
   "outputs": [
    {
     "data": {
      "text/plain": [
       "array([1, 7])"
      ]
     },
     "execution_count": 11,
     "metadata": {},
     "output_type": "execute_result"
    }
   ],
   "source": [
    "order[np.isnan(order['prodcat2'])]['prodcat1'].unique()"
   ]
  },
  {
   "cell_type": "markdown",
   "metadata": {},
   "source": [
    "We should use different values to impute the two cases. Since 'prodcat2' is missing a lot of numbers in range (2, 264). To be safe, we will use '0' and '1' for the two cases respectively."
   ]
  },
  {
   "cell_type": "code",
   "execution_count": 12,
   "metadata": {},
   "outputs": [
    {
     "name": "stderr",
     "output_type": "stream",
     "text": [
      "100%|██████████| 263278/263278 [00:06<00:00, 41192.10it/s]\n"
     ]
    }
   ],
   "source": [
    "order['prodcat2'] = order.progress_apply(lambda row: row['prodcat2'] if (not np.isnan(row['prodcat2'])) else (0 if row['prodcat1']==1 else 1),axis = 1)"
   ]
  },
  {
   "cell_type": "markdown",
   "metadata": {},
   "source": [
    "## 2. Project Statement and Feature Engineering"
   ]
  },
  {
   "cell_type": "markdown",
   "metadata": {},
   "source": [
    "Based on the understanding of the two datasets, I propose the following project:\n",
    "\n",
    "<b>Prediction of Revenue Range Based on Customer's Online Behavior. </b>\n",
    "\n",
    "### New Dataframe - Feature Engineering\n",
    "I will create a new dataframe, where each entry (one row) is indexed by a unique order number ('orderno'). The new dataframe will have the following columns:\n",
    "\n",
    "1. 'custno' - The unique (verified above) customer number from the customer that purchase the order.\n",
    "2. 'orderdate' - The unique date and time the order was completed.\n",
    "3. 'revenue' - The <b>total</b> revenue of the order (not the revenue for each item!). \n",
    "4. 'prodcat1_1'~'prodcat1_7' - The number of purchased items from the i-th category of prodcat1.\n",
    "5. 'nhits_1week' - The number of visits from the customer number in the previous week before the order date.\n",
    "6. 'nhits_3days' - The number of visits from the customer number in the previous 3 days before the order date.\n",
    "7. 'nhits_1day' - The number of visits from the customer number in the previous 24 hours before the order time.\n",
    "8. 'mr_event1' - The category of event1 from the customer number in his/her <b>most recent</b> visit.\n",
    "9. 'mr_event2' - Same as above, but the category of event2.\n",
    "10. 'mr_category' - Same as above, but the online browsing category.\n",
    "\n",
    "### My Goal\n",
    "I will then divide the data into 4 categories according to the 4 quantiles of 'revenue' (0%-25%; 25%-50%; 50%-75%, 75%-100%). My <b>goal</b> is to train an ML model that predicts which quantile a given order from a given customer will fall into.\n",
    "\n",
    "### My Features\n",
    "I will use columns 4~10 from my new dataframe as my features. Columns 5~10 represent the online activities of a given customer leading to the purchase of an order. These features will be collected from the two given datasets. I expect collinearity among the features (for instance, 'nhits_1weeks' vs 'nhits_3days'). I will apply feature selection later.\n",
    "\n",
    "Column 4 (in fact 6 columns) gives the number of items purchased in each category of prodcat1. These show the interest of the customer in each big category.\n",
    "I decide not to use a similar feature from prodcat2, for the reason that the prodcat2 is too detailed, and the small categories are almost representing the prices themselves! It doesn't make sense to use the target to predict the target. Also the number of categories in prodcat2 is >250. This will lead to a huge dimension in our feature space."
   ]
  },
  {
   "cell_type": "markdown",
   "metadata": {},
   "source": [
    "## 2.1 Creating the new DataFrame"
   ]
  },
  {
   "cell_type": "code",
   "execution_count": 13,
   "metadata": {},
   "outputs": [],
   "source": [
    "# Convert the timestamps to datetime format\n",
    "online['dt']=pd.to_datetime(online['dt'])\n",
    "order['orderdate'] = pd.to_datetime(order['orderdate'])"
   ]
  },
  {
   "cell_type": "code",
   "execution_count": 14,
   "metadata": {},
   "outputs": [],
   "source": [
    "# Create Dummies for prodcat1\n",
    "order = pd.get_dummies(order, columns = ['prodcat1'])"
   ]
  },
  {
   "cell_type": "markdown",
   "metadata": {},
   "source": [
    "We will create the new dataframe by first grouping the 'order.csv' according to 'ordno'. Then we will use aggregation functions to yield the needed features from order.csv"
   ]
  },
  {
   "cell_type": "code",
   "execution_count": 15,
   "metadata": {},
   "outputs": [
    {
     "name": "stdout",
     "output_type": "stream",
     "text": [
      "(149717, 10)\n"
     ]
    },
    {
     "data": {
      "text/html": [
       "<div>\n",
       "<style scoped>\n",
       "    .dataframe tbody tr th:only-of-type {\n",
       "        vertical-align: middle;\n",
       "    }\n",
       "\n",
       "    .dataframe tbody tr th {\n",
       "        vertical-align: top;\n",
       "    }\n",
       "\n",
       "    .dataframe thead th {\n",
       "        text-align: right;\n",
       "    }\n",
       "</style>\n",
       "<table border=\"1\" class=\"dataframe\">\n",
       "  <thead>\n",
       "    <tr style=\"text-align: right;\">\n",
       "      <th></th>\n",
       "      <th>ordno</th>\n",
       "      <th>custno</th>\n",
       "      <th>orderdate</th>\n",
       "      <th>revenue</th>\n",
       "      <th>prodcat1_1</th>\n",
       "      <th>prodcat1_2</th>\n",
       "      <th>prodcat1_3</th>\n",
       "      <th>prodcat1_4</th>\n",
       "      <th>prodcat1_5</th>\n",
       "      <th>prodcat1_7</th>\n",
       "    </tr>\n",
       "  </thead>\n",
       "  <tbody>\n",
       "    <tr>\n",
       "      <th>0</th>\n",
       "      <td>1</td>\n",
       "      <td>1</td>\n",
       "      <td>2017-06-12 08:27:59</td>\n",
       "      <td>8.35</td>\n",
       "      <td>1</td>\n",
       "      <td>0</td>\n",
       "      <td>0</td>\n",
       "      <td>0</td>\n",
       "      <td>0</td>\n",
       "      <td>0</td>\n",
       "    </tr>\n",
       "    <tr>\n",
       "      <th>1</th>\n",
       "      <td>2</td>\n",
       "      <td>2</td>\n",
       "      <td>2016-03-29 13:04:27</td>\n",
       "      <td>13.58</td>\n",
       "      <td>1</td>\n",
       "      <td>0</td>\n",
       "      <td>0</td>\n",
       "      <td>0</td>\n",
       "      <td>0</td>\n",
       "      <td>0</td>\n",
       "    </tr>\n",
       "    <tr>\n",
       "      <th>2</th>\n",
       "      <td>3</td>\n",
       "      <td>3</td>\n",
       "      <td>2017-01-31 19:16:49</td>\n",
       "      <td>95.76</td>\n",
       "      <td>1</td>\n",
       "      <td>0</td>\n",
       "      <td>0</td>\n",
       "      <td>0</td>\n",
       "      <td>0</td>\n",
       "      <td>0</td>\n",
       "    </tr>\n",
       "    <tr>\n",
       "      <th>3</th>\n",
       "      <td>4</td>\n",
       "      <td>4</td>\n",
       "      <td>2017-08-14 21:22:10</td>\n",
       "      <td>33.92</td>\n",
       "      <td>1</td>\n",
       "      <td>0</td>\n",
       "      <td>0</td>\n",
       "      <td>0</td>\n",
       "      <td>0</td>\n",
       "      <td>0</td>\n",
       "    </tr>\n",
       "    <tr>\n",
       "      <th>4</th>\n",
       "      <td>5</td>\n",
       "      <td>5</td>\n",
       "      <td>2016-01-16 16:59:06</td>\n",
       "      <td>90.49</td>\n",
       "      <td>1</td>\n",
       "      <td>0</td>\n",
       "      <td>0</td>\n",
       "      <td>0</td>\n",
       "      <td>0</td>\n",
       "      <td>0</td>\n",
       "    </tr>\n",
       "  </tbody>\n",
       "</table>\n",
       "</div>"
      ],
      "text/plain": [
       "   ordno  custno           orderdate  revenue  prodcat1_1  prodcat1_2  \\\n",
       "0      1       1 2017-06-12 08:27:59     8.35           1           0   \n",
       "1      2       2 2016-03-29 13:04:27    13.58           1           0   \n",
       "2      3       3 2017-01-31 19:16:49    95.76           1           0   \n",
       "3      4       4 2017-08-14 21:22:10    33.92           1           0   \n",
       "4      5       5 2016-01-16 16:59:06    90.49           1           0   \n",
       "\n",
       "   prodcat1_3  prodcat1_4  prodcat1_5  prodcat1_7  \n",
       "0           0           0           0           0  \n",
       "1           0           0           0           0  \n",
       "2           0           0           0           0  \n",
       "3           0           0           0           0  \n",
       "4           0           0           0           0  "
      ]
     },
     "execution_count": 15,
     "metadata": {},
     "output_type": "execute_result"
    }
   ],
   "source": [
    "# Group the dataframe by order numbers\n",
    "gdf = order.groupby(by = ['ordno'])\n",
    "\n",
    "# Use aggregation function to compute the feature needed.\n",
    "gdf = gdf.agg({'custno':'min', 'orderdate':'min', 'revenue':'sum', 'prodcat1_1':'sum','prodcat1_2':'sum',\n",
    "         'prodcat1_3':'sum','prodcat1_4':'sum','prodcat1_5':'sum','prodcat1_7':'sum'}).reset_index()\n",
    "\n",
    "print(gdf.shape)\n",
    "gdf.head()"
   ]
  },
  {
   "cell_type": "markdown",
   "metadata": {},
   "source": [
    "Our next goal is to compute the number of hits from online.csv. We will make use of the following function:"
   ]
  },
  {
   "cell_type": "code",
   "execution_count": 16,
   "metadata": {},
   "outputs": [],
   "source": [
    "'''A function that returns the number of visit records from online.csv from 1 week, 3 days, 1 day (respectively) \n",
    "before the purchase''' \n",
    "def get_num_visits(custno, orderdate, list_custnos):\n",
    "    if custno not in list_custnos: return 0, 0, 0\n",
    "    else:\n",
    "        records = online[(online['custno']==custno) & (online['dt']<orderdate)] \n",
    "        n_oneweek = len(records[records['dt']>orderdate - datetime.timedelta(days = 7)])\n",
    "        n_threedays = len(records[records['dt']>orderdate - datetime.timedelta(days = 3)])\n",
    "        n_oneday = len(records[records['dt']>orderdate - datetime.timedelta(hours = 24)])\n",
    "        return n_oneweek, n_threedays, n_oneday"
   ]
  },
  {
   "cell_type": "code",
   "execution_count": 17,
   "metadata": {},
   "outputs": [],
   "source": [
    "list_custnos = list(online['custno'].unique())\n",
    "gdf['nhits_1week'], gdf['nhits_3days'], gdf['nhits_1day'] = zip(*gdf.apply(lambda row: get_num_visits(row['custno'],\n",
    "                                                                                                      row['orderdate'], \n",
    "                                                                                                      list_custnos),\n",
    "                                                                           axis =1))"
   ]
  },
  {
   "cell_type": "markdown",
   "metadata": {},
   "source": [
    "We will now compute the activity from the most recent visit."
   ]
  },
  {
   "cell_type": "code",
   "execution_count": 18,
   "metadata": {},
   "outputs": [],
   "source": [
    "'''A function that returns the events from most recent visit. \n",
    "If the visit happens more than one weeks ago, we return 0''' \n",
    "def most_recent_record(custno, orderdate,list_custnos):\n",
    "    record = online[(online['custno']==custno) & (online['dt']<orderdate)]\n",
    "    if len(record) == 0: \n",
    "        return 0, 0, 0\n",
    "    else:\n",
    "        mr_record = record.sort_values(by = ['dt'], ascending = False).reset_index().loc[0,:]\n",
    "        return mr_record['event1'], mr_record['event2'], mr_record['category']"
   ]
  },
  {
   "cell_type": "code",
   "execution_count": 19,
   "metadata": {},
   "outputs": [],
   "source": [
    "gdf['mr_event1'], gdf['mr_event2'], gdf['mr_category'] = zip(*gdf.apply(lambda row: most_recent_record(row['custno'], \n",
    "                                                                                                       row['orderdate'], \n",
    "                                                                                                       list_custnos), \n",
    "                                                                        axis = 1))"
   ]
  },
  {
   "cell_type": "code",
   "execution_count": 20,
   "metadata": {},
   "outputs": [
    {
     "data": {
      "text/html": [
       "<div>\n",
       "<style scoped>\n",
       "    .dataframe tbody tr th:only-of-type {\n",
       "        vertical-align: middle;\n",
       "    }\n",
       "\n",
       "    .dataframe tbody tr th {\n",
       "        vertical-align: top;\n",
       "    }\n",
       "\n",
       "    .dataframe thead th {\n",
       "        text-align: right;\n",
       "    }\n",
       "</style>\n",
       "<table border=\"1\" class=\"dataframe\">\n",
       "  <thead>\n",
       "    <tr style=\"text-align: right;\">\n",
       "      <th></th>\n",
       "      <th>ordno</th>\n",
       "      <th>custno</th>\n",
       "      <th>orderdate</th>\n",
       "      <th>revenue</th>\n",
       "      <th>prodcat1_1</th>\n",
       "      <th>prodcat1_2</th>\n",
       "      <th>prodcat1_3</th>\n",
       "      <th>prodcat1_4</th>\n",
       "      <th>prodcat1_5</th>\n",
       "      <th>prodcat1_7</th>\n",
       "      <th>nhits_1week</th>\n",
       "      <th>nhits_3days</th>\n",
       "      <th>nhits_1day</th>\n",
       "      <th>mr_event1</th>\n",
       "      <th>mr_event2</th>\n",
       "      <th>mr_category</th>\n",
       "    </tr>\n",
       "  </thead>\n",
       "  <tbody>\n",
       "    <tr>\n",
       "      <th>0</th>\n",
       "      <td>1</td>\n",
       "      <td>1</td>\n",
       "      <td>2017-06-12 08:27:59</td>\n",
       "      <td>8.35</td>\n",
       "      <td>1</td>\n",
       "      <td>0</td>\n",
       "      <td>0</td>\n",
       "      <td>0</td>\n",
       "      <td>0</td>\n",
       "      <td>0</td>\n",
       "      <td>0</td>\n",
       "      <td>0</td>\n",
       "      <td>0</td>\n",
       "      <td>0</td>\n",
       "      <td>0</td>\n",
       "      <td>0</td>\n",
       "    </tr>\n",
       "    <tr>\n",
       "      <th>1</th>\n",
       "      <td>2</td>\n",
       "      <td>2</td>\n",
       "      <td>2016-03-29 13:04:27</td>\n",
       "      <td>13.58</td>\n",
       "      <td>1</td>\n",
       "      <td>0</td>\n",
       "      <td>0</td>\n",
       "      <td>0</td>\n",
       "      <td>0</td>\n",
       "      <td>0</td>\n",
       "      <td>0</td>\n",
       "      <td>0</td>\n",
       "      <td>0</td>\n",
       "      <td>0</td>\n",
       "      <td>0</td>\n",
       "      <td>0</td>\n",
       "    </tr>\n",
       "    <tr>\n",
       "      <th>2</th>\n",
       "      <td>3</td>\n",
       "      <td>3</td>\n",
       "      <td>2017-01-31 19:16:49</td>\n",
       "      <td>95.76</td>\n",
       "      <td>1</td>\n",
       "      <td>0</td>\n",
       "      <td>0</td>\n",
       "      <td>0</td>\n",
       "      <td>0</td>\n",
       "      <td>0</td>\n",
       "      <td>0</td>\n",
       "      <td>0</td>\n",
       "      <td>0</td>\n",
       "      <td>0</td>\n",
       "      <td>0</td>\n",
       "      <td>0</td>\n",
       "    </tr>\n",
       "    <tr>\n",
       "      <th>3</th>\n",
       "      <td>4</td>\n",
       "      <td>4</td>\n",
       "      <td>2017-08-14 21:22:10</td>\n",
       "      <td>33.92</td>\n",
       "      <td>1</td>\n",
       "      <td>0</td>\n",
       "      <td>0</td>\n",
       "      <td>0</td>\n",
       "      <td>0</td>\n",
       "      <td>0</td>\n",
       "      <td>0</td>\n",
       "      <td>0</td>\n",
       "      <td>0</td>\n",
       "      <td>0</td>\n",
       "      <td>0</td>\n",
       "      <td>0</td>\n",
       "    </tr>\n",
       "    <tr>\n",
       "      <th>4</th>\n",
       "      <td>5</td>\n",
       "      <td>5</td>\n",
       "      <td>2016-01-16 16:59:06</td>\n",
       "      <td>90.49</td>\n",
       "      <td>1</td>\n",
       "      <td>0</td>\n",
       "      <td>0</td>\n",
       "      <td>0</td>\n",
       "      <td>0</td>\n",
       "      <td>0</td>\n",
       "      <td>0</td>\n",
       "      <td>0</td>\n",
       "      <td>0</td>\n",
       "      <td>0</td>\n",
       "      <td>0</td>\n",
       "      <td>0</td>\n",
       "    </tr>\n",
       "  </tbody>\n",
       "</table>\n",
       "</div>"
      ],
      "text/plain": [
       "   ordno  custno           orderdate  revenue  prodcat1_1  prodcat1_2  \\\n",
       "0      1       1 2017-06-12 08:27:59     8.35           1           0   \n",
       "1      2       2 2016-03-29 13:04:27    13.58           1           0   \n",
       "2      3       3 2017-01-31 19:16:49    95.76           1           0   \n",
       "3      4       4 2017-08-14 21:22:10    33.92           1           0   \n",
       "4      5       5 2016-01-16 16:59:06    90.49           1           0   \n",
       "\n",
       "   prodcat1_3  prodcat1_4  prodcat1_5  prodcat1_7  nhits_1week  nhits_3days  \\\n",
       "0           0           0           0           0            0            0   \n",
       "1           0           0           0           0            0            0   \n",
       "2           0           0           0           0            0            0   \n",
       "3           0           0           0           0            0            0   \n",
       "4           0           0           0           0            0            0   \n",
       "\n",
       "   nhits_1day  mr_event1  mr_event2  mr_category  \n",
       "0           0          0          0            0  \n",
       "1           0          0          0            0  \n",
       "2           0          0          0            0  \n",
       "3           0          0          0            0  \n",
       "4           0          0          0            0  "
      ]
     },
     "execution_count": 20,
     "metadata": {},
     "output_type": "execute_result"
    }
   ],
   "source": [
    "# Transfer some columns into integer format - saving some space.\n",
    "gdf = gdf.astype({'mr_event1':int, 'mr_event2':int, 'mr_category':int})\n",
    "\n",
    "# Save the new dataframe to file.\n",
    "gdf.to_csv('gdf.csv', index = False)\n",
    "\n",
    "gdf.head()"
   ]
  },
  {
   "cell_type": "markdown",
   "metadata": {},
   "source": [
    "## 2.2 Set target classes\n",
    "I will now divide the data into 4 categories according to the 4 quantiles of 'revenue' (0%-25%; 25%-50%; 50%-75%, 75%-100%). These categories will serve as targets of our ML model."
   ]
  },
  {
   "cell_type": "code",
   "execution_count": 21,
   "metadata": {},
   "outputs": [
    {
     "data": {
      "text/plain": [
       "count    149717.000000\n",
       "mean        131.781091\n",
       "std          99.086187\n",
       "min           0.010000\n",
       "25%          62.510000\n",
       "50%         114.240000\n",
       "75%         173.180000\n",
       "max        1813.100000\n",
       "Name: revenue, dtype: float64"
      ]
     },
     "execution_count": 21,
     "metadata": {},
     "output_type": "execute_result"
    }
   ],
   "source": [
    "gdf['revenue'].describe()"
   ]
  },
  {
   "cell_type": "code",
   "execution_count": 22,
   "metadata": {},
   "outputs": [
    {
     "name": "stderr",
     "output_type": "stream",
     "text": [
      "/home/xuntao/anaconda3/lib/python3.6/site-packages/scipy/stats/stats.py:1713: FutureWarning: Using a non-tuple sequence for multidimensional indexing is deprecated; use `arr[tuple(seq)]` instead of `arr[seq]`. In the future this will be interpreted as an array index, `arr[np.array(seq)]`, which will result either in an error or a different result.\n",
      "  return np.add.reduce(sorted[indexer] * weights, axis=axis) / sumval\n"
     ]
    },
    {
     "data": {
      "text/plain": [
       "<matplotlib.axes._subplots.AxesSubplot at 0x7fb042712cc0>"
      ]
     },
     "execution_count": 22,
     "metadata": {},
     "output_type": "execute_result"
    },
    {
     "data": {
      "image/png": "[encoded data removed]",
      "text/plain": [
       "<Figure size 432x288 with 1 Axes>"
      ]
     },
     "metadata": {
      "needs_background": "light"
     },
     "output_type": "display_data"
    }
   ],
   "source": [
    "# Histogram for the distribution of revenue.\n",
    "sns.distplot(gdf['revenue'])"
   ]
  },
  {
   "cell_type": "code",
   "execution_count": 23,
   "metadata": {},
   "outputs": [
    {
     "data": {
      "text/plain": [
       "1044"
      ]
     },
     "execution_count": 23,
     "metadata": {},
     "output_type": "execute_result"
    }
   ],
   "source": [
    "# Check how many data points in the tail.\n",
    "len(gdf[gdf['revenue']>500])"
   ]
  },
  {
   "cell_type": "markdown",
   "metadata": {},
   "source": [
    "We can see that there is a 'long tail' in our revenue distribution. In order to count for the long tail, it is useful to stratify our sample space into classes with equal sample sizes: that is, using quantiles."
   ]
  },
  {
   "cell_type": "code",
   "execution_count": 24,
   "metadata": {},
   "outputs": [],
   "source": [
    "def revenue_category(revenue, qt1, qt2, qt3):\n",
    "    if revenue < qt1: return 1\n",
    "    elif revenue < qt2: return 2\n",
    "    elif revenue < qt3: return 3\n",
    "    else: return 4"
   ]
  },
  {
   "cell_type": "code",
   "execution_count": 25,
   "metadata": {},
   "outputs": [],
   "source": [
    "qt1 = gdf['revenue'].describe()['25%']\n",
    "qt2 = gdf['revenue'].describe()['50%']\n",
    "qt3 = gdf['revenue'].describe()['75%']\n",
    "\n",
    "gdf['rev_cat'] = gdf['revenue'].apply(lambda x: revenue_category(x, qt1, qt2, qt3))"
   ]
  },
  {
   "cell_type": "markdown",
   "metadata": {},
   "source": [
    "## 2.3 Feature Selection"
   ]
  },
  {
   "cell_type": "markdown",
   "metadata": {},
   "source": [
    "I will now plot a correlation heatmap between our features. I will then find the pairs of features that has a high correlation, and delete one feature from each pair to avoid collinearity."
   ]
  },
  {
   "cell_type": "code",
   "execution_count": 26,
   "metadata": {},
   "outputs": [],
   "source": [
    "features = ['prodcat1_1', 'prodcat1_2','prodcat1_3','prodcat1_4','prodcat1_5','prodcat1_7','nhits_1week',\n",
    "           'nhits_3days','nhits_1day','mr_event1','mr_event2','mr_category']"
   ]
  },
  {
   "cell_type": "code",
   "execution_count": 27,
   "metadata": {},
   "outputs": [],
   "source": [
    "''' Input: dataframe, features\n",
    "    Output: Correlation Heatmap among features.\n",
    "'''\n",
    "def corr_heatmap(df, features):\n",
    "    df_features = df[features]\n",
    "    corr = df_features.corr()\n",
    "    \n",
    "    # Generate a custom diverging colormap\n",
    "    cmap = sns.diverging_palette(220, 10, as_cmap=True)\n",
    "\n",
    "    # Generate a mask for the upper triangle\n",
    "    mask = np.zeros_like(corr, dtype=np.bool)\n",
    "    mask[np.triu_indices_from(mask)] = True\n",
    "\n",
    "    f, ax = plt.subplots(figsize=(11, 9))\n",
    "    sns.heatmap(corr, mask = mask, cmap = cmap)"
   ]
  },
  {
   "cell_type": "code",
   "execution_count": 28,
   "metadata": {},
   "outputs": [
    {
     "data": {
      "image/png": "[encoded data removed]",
      "text/plain": [
       "<Figure size 792x648 with 2 Axes>"
      ]
     },
     "metadata": {
      "needs_background": "light"
     },
     "output_type": "display_data"
    }
   ],
   "source": [
    "corr_heatmap(gdf, features)"
   ]
  },
  {
   "cell_type": "code",
   "execution_count": 29,
   "metadata": {},
   "outputs": [],
   "source": [
    "''' Input: dataframe, features, a threshold of high correlation\n",
    "    Output: a list of pairs of features that are highly correlated.\n",
    "'''\n",
    "def high_corrs(df, features, threshold = 0.9):\n",
    "    df_features = df[features]\n",
    "    corr = df_features.corr()\n",
    "    high_corr = []\n",
    "    \n",
    "    for col in features:\n",
    "        feature_copy = features.copy()\n",
    "        feature_copy.remove(col)\n",
    "        for ind in feature_copy:\n",
    "            if corr.loc[ind, col] > threshold:\n",
    "                if [ind, col] not in high_corr and [col, ind] not in high_corr:\n",
    "                    high_corr.append([ind, col])\n",
    "    return high_corr"
   ]
  },
  {
   "cell_type": "code",
   "execution_count": 30,
   "metadata": {},
   "outputs": [
    {
     "data": {
      "text/plain": [
       "[['nhits_3days', 'nhits_1week'], ['nhits_1day', 'nhits_3days']]"
      ]
     },
     "execution_count": 30,
     "metadata": {},
     "output_type": "execute_result"
    }
   ],
   "source": [
    "high_corrs(gdf, features, 0.8)"
   ]
  },
  {
   "cell_type": "markdown",
   "metadata": {},
   "source": [
    "The 'nhits_3days' is the common feature in the two pairs. Removing it will reduce the correlations of all pairs below our threshold."
   ]
  },
  {
   "cell_type": "code",
   "execution_count": 31,
   "metadata": {},
   "outputs": [],
   "source": [
    "features.remove('nhits_3days')"
   ]
  },
  {
   "cell_type": "markdown",
   "metadata": {},
   "source": [
    "## 3. Model Selection"
   ]
  },
  {
   "cell_type": "markdown",
   "metadata": {},
   "source": [
    "### 3.1 Distribution of features\n",
    "I will first investigate the distribution of our features."
   ]
  },
  {
   "cell_type": "code",
   "execution_count": 32,
   "metadata": {},
   "outputs": [
    {
     "name": "stdout",
     "output_type": "stream",
     "text": [
      "Num of Zeros in mr_category 25499\n",
      "Num of Zeros in mr_event1 25499\n",
      "Num of Zeros in mr_event2 25499\n",
      "Num of Zeros in nhits_1week 97920\n",
      "Num of Zeros in nhits_3days 105133\n",
      "Num of Zeros in nhits_1day 112142\n"
     ]
    }
   ],
   "source": [
    "print('Num of Zeros in mr_category', len(gdf[gdf['mr_category']==0]))\n",
    "print('Num of Zeros in mr_event1', len(gdf[gdf['mr_event1']==0]))\n",
    "print('Num of Zeros in mr_event2', len(gdf[gdf['mr_event2']==0]))\n",
    "print('Num of Zeros in nhits_1week', len(gdf[gdf['nhits_1week']==0]))\n",
    "print('Num of Zeros in nhits_3days', len(gdf[gdf['nhits_3days']==0]))\n",
    "print('Num of Zeros in nhits_1day', len(gdf[gdf['nhits_1day']==0]))"
   ]
  },
  {
   "cell_type": "code",
   "execution_count": 33,
   "metadata": {},
   "outputs": [],
   "source": [
    "''' Input: dataframe, features\n",
    "    Output: Plots of the distribution of each feature.\n",
    "'''\n",
    "def features_distribution(df, features):\n",
    "    plt.figure(figsize = (10,20))\n",
    "    n_col = 2\n",
    "    n_row = np.ceil(len(features)/2)\n",
    "    i = 0\n",
    "    for feature in features:\n",
    "        plt.subplot(n_row, n_col, i+1)\n",
    "        x = df[feature]\n",
    "        sns.distplot(x, bins = 40, kde_kws = {'color': 'b'}, \n",
    "                     hist_kws={\"linewidth\": 1,\"color\": \"b\"})\n",
    "        i = i+1\n",
    "        plt.xlabel(feature)\n",
    "        plt.ylabel('dist')\n",
    "    plt.tight_layout()\n",
    "    plt.show()"
   ]
  },
  {
   "cell_type": "code",
   "execution_count": 34,
   "metadata": {},
   "outputs": [
    {
     "data": {
      "image/png": "[encoded data removed]",
      "text/plain": [
       "<Figure size 720x1440 with 11 Axes>"
      ]
     },
     "metadata": {
      "needs_background": "light"
     },
     "output_type": "display_data"
    }
   ],
   "source": [
    "features_distribution(gdf, features)"
   ]
  },
  {
   "cell_type": "markdown",
   "metadata": {},
   "source": [
    "There are a lot of zeros in the first 6 plot, this is as expected, since they are mostly dummy variables. There are also a lot of zeros in the 'nhits', because the period between two visits from the same person to a certain website are usually long. This is a usual behavior, we shouldn't regard them as outliers.\n",
    "\n",
    "Due to this sparsity, it is best to use the Decision Tree methods. "
   ]
  },
  {
   "cell_type": "markdown",
   "metadata": {},
   "source": [
    "### 3.2 Decision Tree methods\n",
    "I will generate suitable supervised machine learning models and evaluate them. Since I am using classifiers, I will look at cross validation accuracy as the critierion for model selection and evaluation. I will also compute the 95% confidence interval for  model accuracy. The best model will have the highest CV accuracy and the most narrow confidence interval.\n",
    "\n",
    "I will try two classifiers: Random Forest and Logistic Regression. For Random Forest I will use GridSearchCV to choose the best parameters. For Logistic Regression I will use cross validation scores to estimate the test accuracy. Since cross validation is used in both models, I will not split the training set and test sets."
   ]
  },
  {
   "cell_type": "code",
   "execution_count": 35,
   "metadata": {},
   "outputs": [],
   "source": [
    "from sklearn.model_selection import GridSearchCV, cross_val_score\n",
    "from sklearn.ensemble import RandomForestClassifier\n",
    "from sklearn.linear_model import LogisticRegression"
   ]
  },
  {
   "cell_type": "code",
   "execution_count": 36,
   "metadata": {},
   "outputs": [],
   "source": [
    "# Select the target and the features.\n",
    "y = gdf['rev_cat']\n",
    "X = gdf[features]"
   ]
  },
  {
   "cell_type": "markdown",
   "metadata": {},
   "source": [
    "### 3.2.1 Random Forest"
   ]
  },
  {
   "cell_type": "code",
   "execution_count": 37,
   "metadata": {},
   "outputs": [
    {
     "data": {
      "text/plain": [
       "GridSearchCV(cv=5, error_score='raise-deprecating',\n",
       "       estimator=RandomForestClassifier(bootstrap=True, class_weight=None, criterion='gini',\n",
       "            max_depth=None, max_features='auto', max_leaf_nodes=None,\n",
       "            min_impurity_decrease=0.0, min_impurity_split=None,\n",
       "            min_samples_leaf=1, min_samples_split=2,\n",
       "            min_weight_fraction_leaf=0.0, n_estimators='warn', n_jobs=None,\n",
       "            oob_score=False, random_state=None, verbose=0,\n",
       "            warm_start=False),\n",
       "       fit_params=None, iid='warn', n_jobs=None,\n",
       "       param_grid={'max_depth': range(1, 7), 'n_estimators': range(50, 150, 10)},\n",
       "       pre_dispatch='2*n_jobs', refit=True, return_train_score='warn',\n",
       "       scoring=None, verbose=0)"
      ]
     },
     "execution_count": 37,
     "metadata": {},
     "output_type": "execute_result"
    }
   ],
   "source": [
    "# Initialize model\n",
    "rf = RandomForestClassifier()\n",
    "\n",
    "# Set parameter grid.\n",
    "list_estimators = range(50,150, 10)\n",
    "list_depth = range(1,7)\n",
    "param_grid = {'max_depth':list_depth, 'n_estimators':list_estimators}\n",
    "\n",
    "# Apply GridSearchCV to find the best parameters.\n",
    "rf_result = GridSearchCV(rf, param_grid = param_grid, cv = 5)\n",
    "rf_result.fit(X, y)"
   ]
  },
  {
   "cell_type": "markdown",
   "metadata": {},
   "source": [
    "Let us check out the result."
   ]
  },
  {
   "cell_type": "code",
   "execution_count": 38,
   "metadata": {},
   "outputs": [
    {
     "name": "stdout",
     "output_type": "stream",
     "text": [
      "The best Random Forest Model is:  RandomForestClassifier(bootstrap=True, class_weight=None, criterion='gini',\n",
      "            max_depth=4, max_features='auto', max_leaf_nodes=None,\n",
      "            min_impurity_decrease=0.0, min_impurity_split=None,\n",
      "            min_samples_leaf=1, min_samples_split=2,\n",
      "            min_weight_fraction_leaf=0.0, n_estimators=60, n_jobs=None,\n",
      "            oob_score=False, random_state=None, verbose=0,\n",
      "            warm_start=False)\n",
      "This model gives a CV prediction accuracy of  0.4488935792194607 +- 0.018020219424541586\n"
     ]
    }
   ],
   "source": [
    "print('The best Random Forest Model is: ', rf_result.best_estimator_)\n",
    "print('This model gives a CV prediction accuracy of ', rf_result.best_score_, '+-', \n",
    "      2*rf_result.cv_results_['std_test_score'][rf_result.best_index_])"
   ]
  },
  {
   "cell_type": "markdown",
   "metadata": {},
   "source": [
    "### 3.2.2 Logistic Regression"
   ]
  },
  {
   "cell_type": "code",
   "execution_count": 39,
   "metadata": {},
   "outputs": [],
   "source": [
    "logistic = LogisticRegression(solver = 'lbfgs', multi_class= 'multinomial', max_iter = 2000)\n",
    "lg_cv_scores = cross_val_score(logistic, X, y, cv = 5)"
   ]
  },
  {
   "cell_type": "code",
   "execution_count": 40,
   "metadata": {},
   "outputs": [
    {
     "name": "stdout",
     "output_type": "stream",
     "text": [
      "The multi-class Logistic Regression model gives a CV prediction accuracy of  0.47401290182734934 +- 0.09941386037803956\n"
     ]
    }
   ],
   "source": [
    "print('The multi-class Logistic Regression model gives a CV prediction accuracy of ', \n",
    "      lg_cv_scores.mean(), '+-', 2*lg_cv_scores.std())"
   ]
  },
  {
   "cell_type": "markdown",
   "metadata": {},
   "source": [
    "The accuracy of the Random Forest model has 95% chance lying in $[0.432, 0.466]$, while the accuracy of the Logistic Regression model has 95% chance lying in $[0.375, 0.573]$. Although the Logistic Regression gives a higher CV accuracy mean, but the Random Forest has a lower variation and hence more reliable."
   ]
  },
  {
   "cell_type": "markdown",
   "metadata": {},
   "source": [
    "# Summary"
   ]
  },
  {
   "cell_type": "markdown",
   "metadata": {},
   "source": [
    "In this homework I try to predict the range of revenue of an order from the online behavior of the customers. I computed the number of hits within 1 week / 3 days / 24 hours, and the event categories from the most recent visit to quantify the online behavior of the customers, and use them as features. The distribution of revenues from orders has a long tail. I hence choose quantiles from the distribution as our target classes.\n",
    "\n",
    "In the process of feature selection, I plotted a correlation heatmap to locate the features that have high correlations. I further removed the feature that has a high correlation with some other features to avoid collinearity.\n",
    "\n",
    "I applied two machine learning supervised models to classify our orders. I compared them based on the cross validation accuracy. Moreover I computed the confidence intervals of the cv accuracies, in order to assess the model reliability. As a result, the confidence interval of Random Forest is $[0.432, 0.466]$, while the counterpart for Logistic Regression is $[0.375, 0.573]$. I can hence draw the conclusion that the Randowm Forest is the more reliable model, despite it has a lower mean accuracy. \n",
    "\n",
    "The reason for this result is that Random Forest takes the average of multiple tree classifiers, which reduces the variance. It also avoids giving a decisive feature too much weight, which improves the reliability of the model. "
   ]
  },
  {
   "cell_type": "code",
   "execution_count": null,
   "metadata": {},
   "outputs": [],
   "source": []
  }
 ],
 "metadata": {
  "kernelspec": {
   "display_name": "Python 3",
   "language": "python",
   "name": "python3"
  },
  "language_info": {
   "codemirror_mode": {
    "name": "ipython",
    "version": 3
   },
   "file_extension": ".py",
   "mimetype": "text/x-python",
   "name": "python",
   "nbconvert_exporter": "python",
   "pygments_lexer": "ipython3",
   "version": "3.6.0"
  }
 },
 "nbformat": 4,
 "nbformat_minor": 2
}
